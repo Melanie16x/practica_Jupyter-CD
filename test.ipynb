{
 "cells": [
  {
   "cell_type": "markdown",
   "metadata": {},
   "source": [
    "# Capitalizar Palabra\n",
    "\n",
    "1. Pido al usuario que ingrese una palabra o frase para capitalizar"
   ]
  },
  {
   "cell_type": "code",
   "execution_count": null,
   "metadata": {},
   "outputs": [],
   "source": [
    "palabra_frase = str(input('Ingrese una palabra o frase para capitalizar: '))"
   ]
  },
  {
   "cell_type": "markdown",
   "metadata": {},
   "source": [
    "2. Defino una funcion llamada \"capitalizar_palabra\" para que realice dicha tarea. En ella utilizo el metodo \"capitalize\" para realizar la accion."
   ]
  },
  {
   "cell_type": "code",
   "execution_count": null,
   "metadata": {},
   "outputs": [],
   "source": [
    "def capitalizar_palabra(palabra_frase):\n",
    "    print(palabra_frase.capitalize())\n",
    "    return palabra_frase"
   ]
  },
  {
   "cell_type": "markdown",
   "metadata": {},
   "source": [
    "3. LLamo a la funcion para que realice el proceso de capitalizar y le paso un parametro, el cual es la palabra o frase que ingrese el usuario"
   ]
  },
  {
   "cell_type": "code",
   "execution_count": null,
   "metadata": {},
   "outputs": [],
   "source": [
    "capitalizar_palabra(palabra_frase)"
   ]
  },
  {
   "cell_type": "markdown",
   "metadata": {},
   "source": [
    "# Productos\n",
    "\n",
    "1. Importo las librerias que se van a utilizar."
   ]
  },
  {
   "cell_type": "code",
   "execution_count": null,
   "metadata": {},
   "outputs": [],
   "source": [
    "import pandas as pd\n",
    "import matplotlib.pyplot as plt"
   ]
  },
  {
   "cell_type": "markdown",
   "metadata": {},
   "source": [
    "2. Creo el array de objetos en donde se almacenan los productos con los precios y la cantidad disponible."
   ]
  },
  {
   "cell_type": "code",
   "execution_count": null,
   "metadata": {},
   "outputs": [],
   "source": [
    "productos = [\n",
    "    {\"nombre\": \"Camiseta\", \"precio\": 20, \"cantidad_disponible\": 100},\n",
    "    {\"nombre\": \"Pantalón\", \"precio\": 30, \"cantidad_disponible\": 80},\n",
    "    {\"nombre\": \"Zapatos\", \"precio\": 50, \"cantidad_disponible\": 50},\n",
    "    {\"nombre\": \"Reloj\", \"precio\": 100, \"cantidad_disponible\": 30},\n",
    "    {\"nombre\": \"Gorra\", \"precio\": 15, \"cantidad_disponible\": 120},\n",
    "    {\"nombre\": \"Bufanda\", \"precio\": 25, \"cantidad_disponible\": 60},\n",
    "    {\"nombre\": \"Sudadera\", \"precio\": 40, \"cantidad_disponible\": 70},\n",
    "    {\"nombre\": \"Bolsa\", \"precio\": 35, \"cantidad_disponible\": 90},\n",
    "    {\"nombre\": \"Chaqueta\", \"precio\": 80, \"cantidad_disponible\": 40},\n",
    "    {\"nombre\": \"Gafas de sol\", \"precio\": 45, \"cantidad_disponible\": 25},\n",
    "    {\"nombre\": \"Calcetines\", \"precio\": 10, \"cantidad_disponible\": 150},\n",
    "    {\"nombre\": \"Sombrero\", \"precio\": 20, \"cantidad_disponible\": 55},\n",
    "    {\"nombre\": \"Pulsera\", \"precio\": 5, \"cantidad_disponible\": 200},\n",
    "    {\"nombre\": \"Pendientes\", \"precio\": 15, \"cantidad_disponible\": 180},\n",
    "    {\"nombre\": \"Cinturón\", \"precio\": 20, \"cantidad_disponible\": 100},\n",
    "    {\"nombre\": \"Vestido\", \"precio\": 60, \"cantidad_disponible\": 35},\n",
    "    {\"nombre\": \"Corbata\", \"precio\": 25, \"cantidad_disponible\": 75},\n",
    "    {\"nombre\": \"Bolso\", \"precio\": 70, \"cantidad_disponible\": 45},\n",
    "    {\"nombre\": \"Paraguas\", \"precio\": 30, \"cantidad_disponible\": 65},\n",
    "    {\"nombre\": \"Collar\", \"precio\": 40, \"cantidad_disponible\": 85},\n",
    "]"
   ]
  },
  {
   "cell_type": "markdown",
   "metadata": {},
   "source": [
    "3. Defino una funcion llamada \"stock\" para realizar los calculos necesarios sobre los productos.\n",
    "4. En la funcion \"stock\" creo un bucle \"for\" para iterar sobre cada producto. Luego, multiplico el precio de cada producto con su cantidad disponible para hallar el valor total de inventario de cada producto y lo imprimo por la terminal.\n",
    "5. Sumo los totales obtenidos de los inventarios por producto para sacar el total de inventario de todos los produtos y lo imprimo por la terminal.\n",
    "6. Simulo 3 ventas creando un array de tuplas.\n",
    "7. Creo dos bucles \"for\" anidados para iterar sobre cada tupla y sobre los productos para poder restar la cantidad del producto vendido.\n",
    "8. Imprimo la cantidad disponible de cada producto luego de la simulacion de ventas.\n",
    "9. Creo un DataFrame con dos columnas, una para el nombre de los productos y otra para la cantidad disponible."
   ]
  },
  {
   "cell_type": "code",
   "execution_count": null,
   "metadata": {},
   "outputs": [],
   "source": [
    "def stock(productos):\n",
    "\n",
    "    for producto in productos:\n",
    "        valor_inventario_por_producto = producto['precio'] * producto['cantidad_disponible']\n",
    "        print(f'El valor total del inventario para el producto {producto['nombre']} es: ', valor_inventario_por_producto)\n",
    "\n",
    "    valor_total_inventario = sum(producto['precio'] * producto['cantidad_disponible'] for producto in productos)\n",
    "    print('El valor total del inventario es de: ', valor_total_inventario)\n",
    "\n",
    "    ventas = [(\"Vestido\", 2), (\"Pulsera\", 5), (\"Bolso\", 7)]\n",
    "\n",
    "    for venta in ventas:\n",
    "        for producto in productos:\n",
    "            if producto[\"nombre\"] == venta[0]:\n",
    "                producto[\"cantidad_disponible\"] -= venta[1]\n",
    "\n",
    "    print(\"La cantidad restante disponible de cada producto despues de las ventas es: \")\n",
    "    for producto in productos:\n",
    "        print(f\"{producto['nombre']}: {producto['cantidad_disponible']}\")\n",
    "\n",
    "    dataFrame = pd.DataFrame(productos, columns=[\"nombre\", \"cantidad_disponible\"])\n",
    "    print(dataFrame)\n",
    "\n",
    "    return dataFrame"
   ]
  },
  {
   "cell_type": "markdown",
   "metadata": {},
   "source": [
    "## Mostrar grafico\n",
    "\n",
    "1. Defino una funcion \"grafico\" para que realice el proceso de mostrar el grafico.\n",
    "2. LLamo al DataFrame que retorno en la funcion anterior. (stock)\n",
    "3. Obtengo el nombre y la cantidad disponible de los productos.\n",
    "4. Creo el grafico.\n",
    "5. Doy un titulo e indico el nombre de x e y en el grafico.\n",
    "6. Muestro el grafico.\n"
   ]
  },
  {
   "cell_type": "code",
   "execution_count": null,
   "metadata": {},
   "outputs": [],
   "source": [
    "def grafico(productos):\n",
    "\n",
    "    dataFrame = stock(productos)\n",
    "\n",
    "    nombre = dataFrame['nombre']\n",
    "    cantidad_disponible = dataFrame['cantidad_disponible']\n",
    "\n",
    "    plt.figure(figsize=(10,6))\n",
    "    plt.plot(nombre, cantidad_disponible)\n",
    "\n",
    "    plt.title('Cantidad disponible de productos')\n",
    "    plt.xlabel('nombre')\n",
    "    plt.ylabel('cantidad_disponible')\n",
    "\n",
    "    plt.grid(True)\n",
    "    plt.show()"
   ]
  },
  {
   "cell_type": "markdown",
   "metadata": {},
   "source": [
    "7. LLamo a la funcion \"grafico\" y le paso por parametro el array de objetos \"productos\"."
   ]
  },
  {
   "cell_type": "code",
   "execution_count": null,
   "metadata": {},
   "outputs": [],
   "source": [
    "grafico(productos)"
   ]
  }
 ],
 "metadata": {
  "kernelspec": {
   "display_name": "my-env",
   "language": "python",
   "name": "python3"
  },
  "language_info": {
   "name": "python",
   "version": "3.12.3"
  }
 },
 "nbformat": 4,
 "nbformat_minor": 2
}
